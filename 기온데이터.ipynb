{
 "cells": [
  {
   "cell_type": "code",
   "execution_count": 1,
   "metadata": {},
   "outputs": [],
   "source": [
    "import numpy as np\n",
    "import pandas as pd\n",
    "import matplotlib.pyplot as plt\n",
    "import seaborn as sb\n",
    "\n",
    "%matplotlib inline\n",
    "\n",
    "import platform\n",
    "\n",
    "from matplotlib import font_manager, rc\n",
    "plt.rcParams['axes.unicode_minus'] = False\n",
    "\n",
    "if platform.system() == 'Darwin':\n",
    "    rc('font', family='AppleGothic')\n",
    "elif platform.system() == 'Windows':\n",
    "    path = \"c:/Windows/Fonts/malgun.ttf\"\n",
    "    font_name = font_manager.FontProperties(fname=path).get_name()\n",
    "    rc('font', family=font_name)\n",
    "else:\n",
    "    print('Unknown system... sorry~~~~')"
   ]
  },
  {
   "cell_type": "markdown",
   "metadata": {},
   "source": [
    "### 1907년부터 2018년 3월까지의 서울 기온 데이터 분석하기"
   ]
  },
  {
   "cell_type": "code",
   "execution_count": 2,
   "metadata": {},
   "outputs": [],
   "source": [
    "df = pd.read_csv('seoul.csv', encoding='cp949')"
   ]
  },
  {
   "cell_type": "code",
   "execution_count": 3,
   "metadata": {},
   "outputs": [
    {
     "data": {
      "text/html": [
       "<div>\n",
       "<style scoped>\n",
       "    .dataframe tbody tr th:only-of-type {\n",
       "        vertical-align: middle;\n",
       "    }\n",
       "\n",
       "    .dataframe tbody tr th {\n",
       "        vertical-align: top;\n",
       "    }\n",
       "\n",
       "    .dataframe thead th {\n",
       "        text-align: right;\n",
       "    }\n",
       "</style>\n",
       "<table border=\"1\" class=\"dataframe\">\n",
       "  <thead>\n",
       "    <tr style=\"text-align: right;\">\n",
       "      <th></th>\n",
       "      <th>날짜</th>\n",
       "      <th>지점</th>\n",
       "      <th>평균기온(℃)</th>\n",
       "      <th>최저기온(℃)</th>\n",
       "      <th>최고기온(℃)</th>\n",
       "    </tr>\n",
       "  </thead>\n",
       "  <tbody>\n",
       "    <tr>\n",
       "      <td>0</td>\n",
       "      <td>1907-10-01</td>\n",
       "      <td>108</td>\n",
       "      <td>13.5</td>\n",
       "      <td>7.9</td>\n",
       "      <td>20.7</td>\n",
       "    </tr>\n",
       "    <tr>\n",
       "      <td>1</td>\n",
       "      <td>1907-10-02</td>\n",
       "      <td>108</td>\n",
       "      <td>16.2</td>\n",
       "      <td>7.9</td>\n",
       "      <td>22.0</td>\n",
       "    </tr>\n",
       "    <tr>\n",
       "      <td>2</td>\n",
       "      <td>1907-10-03</td>\n",
       "      <td>108</td>\n",
       "      <td>16.2</td>\n",
       "      <td>13.1</td>\n",
       "      <td>21.3</td>\n",
       "    </tr>\n",
       "    <tr>\n",
       "      <td>3</td>\n",
       "      <td>1907-10-04</td>\n",
       "      <td>108</td>\n",
       "      <td>16.5</td>\n",
       "      <td>11.2</td>\n",
       "      <td>22.0</td>\n",
       "    </tr>\n",
       "    <tr>\n",
       "      <td>4</td>\n",
       "      <td>1907-10-05</td>\n",
       "      <td>108</td>\n",
       "      <td>17.6</td>\n",
       "      <td>10.9</td>\n",
       "      <td>25.4</td>\n",
       "    </tr>\n",
       "  </tbody>\n",
       "</table>\n",
       "</div>"
      ],
      "text/plain": [
       "           날짜   지점  평균기온(℃)  최저기온(℃)  최고기온(℃)\n",
       "0  1907-10-01  108     13.5      7.9     20.7\n",
       "1  1907-10-02  108     16.2      7.9     22.0\n",
       "2  1907-10-03  108     16.2     13.1     21.3\n",
       "3  1907-10-04  108     16.5     11.2     22.0\n",
       "4  1907-10-05  108     17.6     10.9     25.4"
      ]
     },
     "execution_count": 3,
     "metadata": {},
     "output_type": "execute_result"
    }
   ],
   "source": [
    "df.head()"
   ]
  },
  {
   "cell_type": "code",
   "execution_count": 4,
   "metadata": {},
   "outputs": [
    {
     "name": "stdout",
     "output_type": "stream",
     "text": [
      "<class 'pandas.core.frame.DataFrame'>\n",
      "RangeIndex: 39926 entries, 0 to 39925\n",
      "Data columns (total 5 columns):\n",
      "날짜         39926 non-null object\n",
      "지점         39926 non-null int64\n",
      "평균기온(℃)    39170 non-null float64\n",
      "최저기온(℃)    39169 non-null float64\n",
      "최고기온(℃)    39168 non-null float64\n",
      "dtypes: float64(3), int64(1), object(1)\n",
      "memory usage: 1.5+ MB\n"
     ]
    }
   ],
   "source": [
    "df.info()"
   ]
  },
  {
   "cell_type": "code",
   "execution_count": 5,
   "metadata": {},
   "outputs": [
    {
     "data": {
      "text/html": [
       "<div>\n",
       "<style scoped>\n",
       "    .dataframe tbody tr th:only-of-type {\n",
       "        vertical-align: middle;\n",
       "    }\n",
       "\n",
       "    .dataframe tbody tr th {\n",
       "        vertical-align: top;\n",
       "    }\n",
       "\n",
       "    .dataframe thead th {\n",
       "        text-align: right;\n",
       "    }\n",
       "</style>\n",
       "<table border=\"1\" class=\"dataframe\">\n",
       "  <thead>\n",
       "    <tr style=\"text-align: right;\">\n",
       "      <th></th>\n",
       "      <th>지점</th>\n",
       "      <th>평균기온(℃)</th>\n",
       "      <th>최저기온(℃)</th>\n",
       "      <th>최고기온(℃)</th>\n",
       "    </tr>\n",
       "  </thead>\n",
       "  <tbody>\n",
       "    <tr>\n",
       "      <td>count</td>\n",
       "      <td>39926.0</td>\n",
       "      <td>39170.000000</td>\n",
       "      <td>39169.000000</td>\n",
       "      <td>39168.000000</td>\n",
       "    </tr>\n",
       "    <tr>\n",
       "      <td>mean</td>\n",
       "      <td>108.0</td>\n",
       "      <td>11.672716</td>\n",
       "      <td>7.374237</td>\n",
       "      <td>16.684921</td>\n",
       "    </tr>\n",
       "    <tr>\n",
       "      <td>std</td>\n",
       "      <td>0.0</td>\n",
       "      <td>10.664129</td>\n",
       "      <td>10.887584</td>\n",
       "      <td>10.996621</td>\n",
       "    </tr>\n",
       "    <tr>\n",
       "      <td>min</td>\n",
       "      <td>108.0</td>\n",
       "      <td>-19.200000</td>\n",
       "      <td>-23.100000</td>\n",
       "      <td>-16.300000</td>\n",
       "    </tr>\n",
       "    <tr>\n",
       "      <td>25%</td>\n",
       "      <td>108.0</td>\n",
       "      <td>2.600000</td>\n",
       "      <td>-1.500000</td>\n",
       "      <td>7.100000</td>\n",
       "    </tr>\n",
       "    <tr>\n",
       "      <td>50%</td>\n",
       "      <td>108.0</td>\n",
       "      <td>12.900000</td>\n",
       "      <td>7.900000</td>\n",
       "      <td>18.500000</td>\n",
       "    </tr>\n",
       "    <tr>\n",
       "      <td>75%</td>\n",
       "      <td>108.0</td>\n",
       "      <td>21.200000</td>\n",
       "      <td>17.000000</td>\n",
       "      <td>26.200000</td>\n",
       "    </tr>\n",
       "    <tr>\n",
       "      <td>max</td>\n",
       "      <td>108.0</td>\n",
       "      <td>33.100000</td>\n",
       "      <td>28.800000</td>\n",
       "      <td>38.400000</td>\n",
       "    </tr>\n",
       "  </tbody>\n",
       "</table>\n",
       "</div>"
      ],
      "text/plain": [
       "            지점       평균기온(℃)       최저기온(℃)       최고기온(℃)\n",
       "count  39926.0  39170.000000  39169.000000  39168.000000\n",
       "mean     108.0     11.672716      7.374237     16.684921\n",
       "std        0.0     10.664129     10.887584     10.996621\n",
       "min      108.0    -19.200000    -23.100000    -16.300000\n",
       "25%      108.0      2.600000     -1.500000      7.100000\n",
       "50%      108.0     12.900000      7.900000     18.500000\n",
       "75%      108.0     21.200000     17.000000     26.200000\n",
       "max      108.0     33.100000     28.800000     38.400000"
      ]
     },
     "execution_count": 5,
     "metadata": {},
     "output_type": "execute_result"
    }
   ],
   "source": [
    "df.describe()"
   ]
  },
  {
   "cell_type": "markdown",
   "metadata": {},
   "source": [
    "### 가장 더운날 찾아보기"
   ]
  },
  {
   "cell_type": "code",
   "execution_count": 6,
   "metadata": {},
   "outputs": [
    {
     "data": {
      "text/plain": [
       "0        False\n",
       "1        False\n",
       "2        False\n",
       "3        False\n",
       "4        False\n",
       "         ...  \n",
       "39921    False\n",
       "39922    False\n",
       "39923    False\n",
       "39924    False\n",
       "39925    False\n",
       "Name: 최고기온(℃), Length: 39926, dtype: bool"
      ]
     },
     "execution_count": 6,
     "metadata": {},
     "output_type": "execute_result"
    }
   ],
   "source": [
    "df['최고기온(℃)'] == df['최고기온(℃)'].max()"
   ]
  },
  {
   "cell_type": "code",
   "execution_count": 7,
   "metadata": {},
   "outputs": [
    {
     "data": {
      "text/html": [
       "<div>\n",
       "<style scoped>\n",
       "    .dataframe tbody tr th:only-of-type {\n",
       "        vertical-align: middle;\n",
       "    }\n",
       "\n",
       "    .dataframe tbody tr th {\n",
       "        vertical-align: top;\n",
       "    }\n",
       "\n",
       "    .dataframe thead th {\n",
       "        text-align: right;\n",
       "    }\n",
       "</style>\n",
       "<table border=\"1\" class=\"dataframe\">\n",
       "  <thead>\n",
       "    <tr style=\"text-align: right;\">\n",
       "      <th></th>\n",
       "      <th>날짜</th>\n",
       "      <th>지점</th>\n",
       "      <th>평균기온(℃)</th>\n",
       "      <th>최저기온(℃)</th>\n",
       "      <th>최고기온(℃)</th>\n",
       "    </tr>\n",
       "  </thead>\n",
       "  <tbody>\n",
       "    <tr>\n",
       "      <td>31277</td>\n",
       "      <td>1994-07-24</td>\n",
       "      <td>108</td>\n",
       "      <td>33.1</td>\n",
       "      <td>28.1</td>\n",
       "      <td>38.4</td>\n",
       "    </tr>\n",
       "  </tbody>\n",
       "</table>\n",
       "</div>"
      ],
      "text/plain": [
       "               날짜   지점  평균기온(℃)  최저기온(℃)  최고기온(℃)\n",
       "31277  1994-07-24  108     33.1     28.1     38.4"
      ]
     },
     "execution_count": 7,
     "metadata": {},
     "output_type": "execute_result"
    }
   ],
   "source": [
    "df.loc[df['최고기온(℃)'] == df['최고기온(℃)'].max(), ]"
   ]
  },
  {
   "cell_type": "markdown",
   "metadata": {},
   "source": [
    "### 최고기온을 히스토그램으로 나타내보기"
   ]
  },
  {
   "cell_type": "code",
   "execution_count": 8,
   "metadata": {},
   "outputs": [
    {
     "data": {
      "text/html": [
       "<div>\n",
       "<style scoped>\n",
       "    .dataframe tbody tr th:only-of-type {\n",
       "        vertical-align: middle;\n",
       "    }\n",
       "\n",
       "    .dataframe tbody tr th {\n",
       "        vertical-align: top;\n",
       "    }\n",
       "\n",
       "    .dataframe thead th {\n",
       "        text-align: right;\n",
       "    }\n",
       "</style>\n",
       "<table border=\"1\" class=\"dataframe\">\n",
       "  <thead>\n",
       "    <tr style=\"text-align: right;\">\n",
       "      <th></th>\n",
       "      <th>날짜</th>\n",
       "      <th>지점</th>\n",
       "      <th>평균기온(℃)</th>\n",
       "      <th>최저기온(℃)</th>\n",
       "      <th>최고기온(℃)</th>\n",
       "    </tr>\n",
       "  </thead>\n",
       "  <tbody>\n",
       "    <tr>\n",
       "      <td>0</td>\n",
       "      <td>1907-10-01</td>\n",
       "      <td>108</td>\n",
       "      <td>13.5</td>\n",
       "      <td>7.9</td>\n",
       "      <td>20.7</td>\n",
       "    </tr>\n",
       "    <tr>\n",
       "      <td>1</td>\n",
       "      <td>1907-10-02</td>\n",
       "      <td>108</td>\n",
       "      <td>16.2</td>\n",
       "      <td>7.9</td>\n",
       "      <td>22.0</td>\n",
       "    </tr>\n",
       "    <tr>\n",
       "      <td>2</td>\n",
       "      <td>1907-10-03</td>\n",
       "      <td>108</td>\n",
       "      <td>16.2</td>\n",
       "      <td>13.1</td>\n",
       "      <td>21.3</td>\n",
       "    </tr>\n",
       "    <tr>\n",
       "      <td>3</td>\n",
       "      <td>1907-10-04</td>\n",
       "      <td>108</td>\n",
       "      <td>16.5</td>\n",
       "      <td>11.2</td>\n",
       "      <td>22.0</td>\n",
       "    </tr>\n",
       "    <tr>\n",
       "      <td>4</td>\n",
       "      <td>1907-10-05</td>\n",
       "      <td>108</td>\n",
       "      <td>17.6</td>\n",
       "      <td>10.9</td>\n",
       "      <td>25.4</td>\n",
       "    </tr>\n",
       "  </tbody>\n",
       "</table>\n",
       "</div>"
      ],
      "text/plain": [
       "           날짜   지점  평균기온(℃)  최저기온(℃)  최고기온(℃)\n",
       "0  1907-10-01  108     13.5      7.9     20.7\n",
       "1  1907-10-02  108     16.2      7.9     22.0\n",
       "2  1907-10-03  108     16.2     13.1     21.3\n",
       "3  1907-10-04  108     16.5     11.2     22.0\n",
       "4  1907-10-05  108     17.6     10.9     25.4"
      ]
     },
     "execution_count": 8,
     "metadata": {},
     "output_type": "execute_result"
    }
   ],
   "source": [
    "df.head()"
   ]
  },
  {
   "cell_type": "code",
   "execution_count": 9,
   "metadata": {},
   "outputs": [
    {
     "name": "stderr",
     "output_type": "stream",
     "text": [
      "C:\\Users\\HANA\\Anaconda3\\lib\\site-packages\\numpy\\lib\\histograms.py:824: RuntimeWarning: invalid value encountered in greater_equal\n",
      "  keep = (tmp_a >= first_edge)\n",
      "C:\\Users\\HANA\\Anaconda3\\lib\\site-packages\\numpy\\lib\\histograms.py:825: RuntimeWarning: invalid value encountered in less_equal\n",
      "  keep &= (tmp_a <= last_edge)\n"
     ]
    },
    {
     "data": {
      "image/png": "[encoded data removed]",
      "text/plain": [
       "<Figure size 432x288 with 1 Axes>"
      ]
     },
     "metadata": {
      "needs_background": "light"
     },
     "output_type": "display_data"
    }
   ],
   "source": [
    "plt.hist(data=df, x='최고기온(℃)', rwidth = 0.8)\n",
    "plt.show()"
   ]
  },
  {
   "cell_type": "code",
   "execution_count": 10,
   "metadata": {},
   "outputs": [],
   "source": [
    "# bin 범위를 4도로 변경\n",
    "bin_range = np.arange(round(df['최고기온(℃)'].min()), round(df['최고기온(℃)'].max())+4,4)"
   ]
  },
  {
   "cell_type": "code",
   "execution_count": 11,
   "metadata": {},
   "outputs": [
    {
     "data": {
      "text/plain": [
       "array([-16, -12,  -8,  -4,   0,   4,   8,  12,  16,  20,  24,  28,  32,\n",
       "        36,  40])"
      ]
     },
     "execution_count": 11,
     "metadata": {},
     "output_type": "execute_result"
    }
   ],
   "source": [
    "bin_range"
   ]
  },
  {
   "cell_type": "code",
   "execution_count": 12,
   "metadata": {},
   "outputs": [
    {
     "data": {
      "image/png": "[encoded data removed]",
      "text/plain": [
       "<Figure size 432x288 with 1 Axes>"
      ]
     },
     "metadata": {
      "needs_background": "light"
     },
     "output_type": "display_data"
    }
   ],
   "source": [
    "plt.hist(data=df, x='최고기온(℃)', rwidth=0.8, bins=bin_range)\n",
    "plt.show()"
   ]
  },
  {
   "cell_type": "markdown",
   "metadata": {},
   "source": [
    "### 2014년 이후부터 최고기온 확인해보기"
   ]
  },
  {
   "cell_type": "code",
   "execution_count": 13,
   "metadata": {},
   "outputs": [
    {
     "data": {
      "text/html": [
       "<div>\n",
       "<style scoped>\n",
       "    .dataframe tbody tr th:only-of-type {\n",
       "        vertical-align: middle;\n",
       "    }\n",
       "\n",
       "    .dataframe tbody tr th {\n",
       "        vertical-align: top;\n",
       "    }\n",
       "\n",
       "    .dataframe thead th {\n",
       "        text-align: right;\n",
       "    }\n",
       "</style>\n",
       "<table border=\"1\" class=\"dataframe\">\n",
       "  <thead>\n",
       "    <tr style=\"text-align: right;\">\n",
       "      <th></th>\n",
       "      <th>날짜</th>\n",
       "      <th>지점</th>\n",
       "      <th>평균기온(℃)</th>\n",
       "      <th>최저기온(℃)</th>\n",
       "      <th>최고기온(℃)</th>\n",
       "    </tr>\n",
       "  </thead>\n",
       "  <tbody>\n",
       "    <tr>\n",
       "      <td>0</td>\n",
       "      <td>1907-10-01</td>\n",
       "      <td>108</td>\n",
       "      <td>13.5</td>\n",
       "      <td>7.9</td>\n",
       "      <td>20.7</td>\n",
       "    </tr>\n",
       "    <tr>\n",
       "      <td>1</td>\n",
       "      <td>1907-10-02</td>\n",
       "      <td>108</td>\n",
       "      <td>16.2</td>\n",
       "      <td>7.9</td>\n",
       "      <td>22.0</td>\n",
       "    </tr>\n",
       "    <tr>\n",
       "      <td>2</td>\n",
       "      <td>1907-10-03</td>\n",
       "      <td>108</td>\n",
       "      <td>16.2</td>\n",
       "      <td>13.1</td>\n",
       "      <td>21.3</td>\n",
       "    </tr>\n",
       "    <tr>\n",
       "      <td>3</td>\n",
       "      <td>1907-10-04</td>\n",
       "      <td>108</td>\n",
       "      <td>16.5</td>\n",
       "      <td>11.2</td>\n",
       "      <td>22.0</td>\n",
       "    </tr>\n",
       "    <tr>\n",
       "      <td>4</td>\n",
       "      <td>1907-10-05</td>\n",
       "      <td>108</td>\n",
       "      <td>17.6</td>\n",
       "      <td>10.9</td>\n",
       "      <td>25.4</td>\n",
       "    </tr>\n",
       "  </tbody>\n",
       "</table>\n",
       "</div>"
      ],
      "text/plain": [
       "           날짜   지점  평균기온(℃)  최저기온(℃)  최고기온(℃)\n",
       "0  1907-10-01  108     13.5      7.9     20.7\n",
       "1  1907-10-02  108     16.2      7.9     22.0\n",
       "2  1907-10-03  108     16.2     13.1     21.3\n",
       "3  1907-10-04  108     16.5     11.2     22.0\n",
       "4  1907-10-05  108     17.6     10.9     25.4"
      ]
     },
     "execution_count": 13,
     "metadata": {},
     "output_type": "execute_result"
    }
   ],
   "source": [
    "df.head()"
   ]
  },
  {
   "cell_type": "code",
   "execution_count": 14,
   "metadata": {},
   "outputs": [
    {
     "data": {
      "text/plain": [
       "0        False\n",
       "1        False\n",
       "2        False\n",
       "3        False\n",
       "4        False\n",
       "         ...  \n",
       "39921    False\n",
       "39922    False\n",
       "39923    False\n",
       "39924    False\n",
       "39925    False\n",
       "Name: 날짜, Length: 39926, dtype: bool"
      ]
     },
     "execution_count": 14,
     "metadata": {},
     "output_type": "execute_result"
    }
   ],
   "source": [
    "df['날짜'] == '2014-01-01'"
   ]
  },
  {
   "cell_type": "code",
   "execution_count": 15,
   "metadata": {},
   "outputs": [],
   "source": [
    "start_index = df.loc[df['날짜'] == '2014-01-01' , ].index[0]"
   ]
  },
  {
   "cell_type": "code",
   "execution_count": 16,
   "metadata": {},
   "outputs": [],
   "source": [
    "df_after_2014 = df.loc[start_index : ,]"
   ]
  },
  {
   "cell_type": "code",
   "execution_count": 17,
   "metadata": {},
   "outputs": [
    {
     "data": {
      "text/html": [
       "<div>\n",
       "<style scoped>\n",
       "    .dataframe tbody tr th:only-of-type {\n",
       "        vertical-align: middle;\n",
       "    }\n",
       "\n",
       "    .dataframe tbody tr th {\n",
       "        vertical-align: top;\n",
       "    }\n",
       "\n",
       "    .dataframe thead th {\n",
       "        text-align: right;\n",
       "    }\n",
       "</style>\n",
       "<table border=\"1\" class=\"dataframe\">\n",
       "  <thead>\n",
       "    <tr style=\"text-align: right;\">\n",
       "      <th></th>\n",
       "      <th>날짜</th>\n",
       "      <th>지점</th>\n",
       "      <th>평균기온(℃)</th>\n",
       "      <th>최저기온(℃)</th>\n",
       "      <th>최고기온(℃)</th>\n",
       "    </tr>\n",
       "  </thead>\n",
       "  <tbody>\n",
       "    <tr>\n",
       "      <td>38378</td>\n",
       "      <td>2014-01-01</td>\n",
       "      <td>108</td>\n",
       "      <td>4.0</td>\n",
       "      <td>0.3</td>\n",
       "      <td>7.9</td>\n",
       "    </tr>\n",
       "    <tr>\n",
       "      <td>38379</td>\n",
       "      <td>2014-01-02</td>\n",
       "      <td>108</td>\n",
       "      <td>1.5</td>\n",
       "      <td>-1.3</td>\n",
       "      <td>6.2</td>\n",
       "    </tr>\n",
       "    <tr>\n",
       "      <td>38380</td>\n",
       "      <td>2014-01-03</td>\n",
       "      <td>108</td>\n",
       "      <td>2.3</td>\n",
       "      <td>-1.1</td>\n",
       "      <td>7.3</td>\n",
       "    </tr>\n",
       "    <tr>\n",
       "      <td>38381</td>\n",
       "      <td>2014-01-04</td>\n",
       "      <td>108</td>\n",
       "      <td>-0.1</td>\n",
       "      <td>-3.7</td>\n",
       "      <td>5.6</td>\n",
       "    </tr>\n",
       "    <tr>\n",
       "      <td>38382</td>\n",
       "      <td>2014-01-05</td>\n",
       "      <td>108</td>\n",
       "      <td>-0.8</td>\n",
       "      <td>-4.3</td>\n",
       "      <td>3.8</td>\n",
       "    </tr>\n",
       "    <tr>\n",
       "      <td>...</td>\n",
       "      <td>...</td>\n",
       "      <td>...</td>\n",
       "      <td>...</td>\n",
       "      <td>...</td>\n",
       "      <td>...</td>\n",
       "    </tr>\n",
       "    <tr>\n",
       "      <td>39921</td>\n",
       "      <td>2018-03-24</td>\n",
       "      <td>108</td>\n",
       "      <td>7.6</td>\n",
       "      <td>4.0</td>\n",
       "      <td>13.1</td>\n",
       "    </tr>\n",
       "    <tr>\n",
       "      <td>39922</td>\n",
       "      <td>2018-03-25</td>\n",
       "      <td>108</td>\n",
       "      <td>9.6</td>\n",
       "      <td>4.6</td>\n",
       "      <td>16.9</td>\n",
       "    </tr>\n",
       "    <tr>\n",
       "      <td>39923</td>\n",
       "      <td>2018-03-26</td>\n",
       "      <td>108</td>\n",
       "      <td>11.0</td>\n",
       "      <td>5.3</td>\n",
       "      <td>18.1</td>\n",
       "    </tr>\n",
       "    <tr>\n",
       "      <td>39924</td>\n",
       "      <td>2018-03-27</td>\n",
       "      <td>108</td>\n",
       "      <td>13.3</td>\n",
       "      <td>7.7</td>\n",
       "      <td>20.0</td>\n",
       "    </tr>\n",
       "    <tr>\n",
       "      <td>39925</td>\n",
       "      <td>2018-03-28</td>\n",
       "      <td>108</td>\n",
       "      <td>14.0</td>\n",
       "      <td>9.4</td>\n",
       "      <td>19.0</td>\n",
       "    </tr>\n",
       "  </tbody>\n",
       "</table>\n",
       "<p>1548 rows × 5 columns</p>\n",
       "</div>"
      ],
      "text/plain": [
       "               날짜   지점  평균기온(℃)  최저기온(℃)  최고기온(℃)\n",
       "38378  2014-01-01  108      4.0      0.3      7.9\n",
       "38379  2014-01-02  108      1.5     -1.3      6.2\n",
       "38380  2014-01-03  108      2.3     -1.1      7.3\n",
       "38381  2014-01-04  108     -0.1     -3.7      5.6\n",
       "38382  2014-01-05  108     -0.8     -4.3      3.8\n",
       "...           ...  ...      ...      ...      ...\n",
       "39921  2018-03-24  108      7.6      4.0     13.1\n",
       "39922  2018-03-25  108      9.6      4.6     16.9\n",
       "39923  2018-03-26  108     11.0      5.3     18.1\n",
       "39924  2018-03-27  108     13.3      7.7     20.0\n",
       "39925  2018-03-28  108     14.0      9.4     19.0\n",
       "\n",
       "[1548 rows x 5 columns]"
      ]
     },
     "execution_count": 17,
     "metadata": {},
     "output_type": "execute_result"
    }
   ],
   "source": [
    "df_after_2014"
   ]
  },
  {
   "cell_type": "code",
   "execution_count": 18,
   "metadata": {},
   "outputs": [
    {
     "data": {
      "image/png": "[encoded data removed]",
      "text/plain": [
       "<Figure size 432x288 with 1 Axes>"
      ]
     },
     "metadata": {
      "needs_background": "light"
     },
     "output_type": "display_data"
    }
   ],
   "source": [
    "plt.hist(data=df_after_2014, x='최고기온(℃)', rwidth=0.8, bins=bin_range)\n",
    "plt.show()"
   ]
  },
  {
   "cell_type": "code",
   "execution_count": 20,
   "metadata": {},
   "outputs": [
    {
     "data": {
      "image/png": "[encoded data removed]",
      "text/plain": [
       "<Figure size 720x288 with 2 Axes>"
      ]
     },
     "metadata": {
      "needs_background": "light"
     },
     "output_type": "display_data"
    }
   ],
   "source": [
    "# 모든 날짜 데이터 vs 2014년도 이후 데이터 비교해보기\n",
    "\n",
    "plt.figure(figsize=(10,4))\n",
    "\n",
    "plt.subplot(1, 2, 1)\n",
    "plt.hist(data=df, x='최고기온(℃)', rwidth=0.8, bins=bin_range)\n",
    "\n",
    "plt.subplot(1, 2, 2)\n",
    "plt.hist(data=df_after_2014, x='최고기온(℃)', rwidth=0.8, bins=bin_range)\n",
    "\n",
    "plt.show()"
   ]
  },
  {
   "cell_type": "markdown",
   "metadata": {},
   "source": [
    "### 2017-08-01 ~ 2017-08-15 사이의 날짜별 최고기온 확인해보기"
   ]
  },
  {
   "cell_type": "code",
   "execution_count": 22,
   "metadata": {},
   "outputs": [
    {
     "data": {
      "text/html": [
       "<div>\n",
       "<style scoped>\n",
       "    .dataframe tbody tr th:only-of-type {\n",
       "        vertical-align: middle;\n",
       "    }\n",
       "\n",
       "    .dataframe tbody tr th {\n",
       "        vertical-align: top;\n",
       "    }\n",
       "\n",
       "    .dataframe thead th {\n",
       "        text-align: right;\n",
       "    }\n",
       "</style>\n",
       "<table border=\"1\" class=\"dataframe\">\n",
       "  <thead>\n",
       "    <tr style=\"text-align: right;\">\n",
       "      <th></th>\n",
       "      <th>날짜</th>\n",
       "      <th>지점</th>\n",
       "      <th>평균기온(℃)</th>\n",
       "      <th>최저기온(℃)</th>\n",
       "      <th>최고기온(℃)</th>\n",
       "    </tr>\n",
       "  </thead>\n",
       "  <tbody>\n",
       "    <tr>\n",
       "      <td>0</td>\n",
       "      <td>1907-10-01</td>\n",
       "      <td>108</td>\n",
       "      <td>13.5</td>\n",
       "      <td>7.9</td>\n",
       "      <td>20.7</td>\n",
       "    </tr>\n",
       "    <tr>\n",
       "      <td>1</td>\n",
       "      <td>1907-10-02</td>\n",
       "      <td>108</td>\n",
       "      <td>16.2</td>\n",
       "      <td>7.9</td>\n",
       "      <td>22.0</td>\n",
       "    </tr>\n",
       "    <tr>\n",
       "      <td>2</td>\n",
       "      <td>1907-10-03</td>\n",
       "      <td>108</td>\n",
       "      <td>16.2</td>\n",
       "      <td>13.1</td>\n",
       "      <td>21.3</td>\n",
       "    </tr>\n",
       "    <tr>\n",
       "      <td>3</td>\n",
       "      <td>1907-10-04</td>\n",
       "      <td>108</td>\n",
       "      <td>16.5</td>\n",
       "      <td>11.2</td>\n",
       "      <td>22.0</td>\n",
       "    </tr>\n",
       "    <tr>\n",
       "      <td>4</td>\n",
       "      <td>1907-10-05</td>\n",
       "      <td>108</td>\n",
       "      <td>17.6</td>\n",
       "      <td>10.9</td>\n",
       "      <td>25.4</td>\n",
       "    </tr>\n",
       "    <tr>\n",
       "      <td>...</td>\n",
       "      <td>...</td>\n",
       "      <td>...</td>\n",
       "      <td>...</td>\n",
       "      <td>...</td>\n",
       "      <td>...</td>\n",
       "    </tr>\n",
       "    <tr>\n",
       "      <td>39921</td>\n",
       "      <td>2018-03-24</td>\n",
       "      <td>108</td>\n",
       "      <td>7.6</td>\n",
       "      <td>4.0</td>\n",
       "      <td>13.1</td>\n",
       "    </tr>\n",
       "    <tr>\n",
       "      <td>39922</td>\n",
       "      <td>2018-03-25</td>\n",
       "      <td>108</td>\n",
       "      <td>9.6</td>\n",
       "      <td>4.6</td>\n",
       "      <td>16.9</td>\n",
       "    </tr>\n",
       "    <tr>\n",
       "      <td>39923</td>\n",
       "      <td>2018-03-26</td>\n",
       "      <td>108</td>\n",
       "      <td>11.0</td>\n",
       "      <td>5.3</td>\n",
       "      <td>18.1</td>\n",
       "    </tr>\n",
       "    <tr>\n",
       "      <td>39924</td>\n",
       "      <td>2018-03-27</td>\n",
       "      <td>108</td>\n",
       "      <td>13.3</td>\n",
       "      <td>7.7</td>\n",
       "      <td>20.0</td>\n",
       "    </tr>\n",
       "    <tr>\n",
       "      <td>39925</td>\n",
       "      <td>2018-03-28</td>\n",
       "      <td>108</td>\n",
       "      <td>14.0</td>\n",
       "      <td>9.4</td>\n",
       "      <td>19.0</td>\n",
       "    </tr>\n",
       "  </tbody>\n",
       "</table>\n",
       "<p>39926 rows × 5 columns</p>\n",
       "</div>"
      ],
      "text/plain": [
       "               날짜   지점  평균기온(℃)  최저기온(℃)  최고기온(℃)\n",
       "0      1907-10-01  108     13.5      7.9     20.7\n",
       "1      1907-10-02  108     16.2      7.9     22.0\n",
       "2      1907-10-03  108     16.2     13.1     21.3\n",
       "3      1907-10-04  108     16.5     11.2     22.0\n",
       "4      1907-10-05  108     17.6     10.9     25.4\n",
       "...           ...  ...      ...      ...      ...\n",
       "39921  2018-03-24  108      7.6      4.0     13.1\n",
       "39922  2018-03-25  108      9.6      4.6     16.9\n",
       "39923  2018-03-26  108     11.0      5.3     18.1\n",
       "39924  2018-03-27  108     13.3      7.7     20.0\n",
       "39925  2018-03-28  108     14.0      9.4     19.0\n",
       "\n",
       "[39926 rows x 5 columns]"
      ]
     },
     "execution_count": 22,
     "metadata": {},
     "output_type": "execute_result"
    }
   ],
   "source": [
    "df"
   ]
  },
  {
   "cell_type": "code",
   "execution_count": 26,
   "metadata": {},
   "outputs": [],
   "source": [
    "df_new = df.set_index('날짜')"
   ]
  },
  {
   "cell_type": "code",
   "execution_count": 27,
   "metadata": {},
   "outputs": [
    {
     "data": {
      "text/html": [
       "<div>\n",
       "<style scoped>\n",
       "    .dataframe tbody tr th:only-of-type {\n",
       "        vertical-align: middle;\n",
       "    }\n",
       "\n",
       "    .dataframe tbody tr th {\n",
       "        vertical-align: top;\n",
       "    }\n",
       "\n",
       "    .dataframe thead th {\n",
       "        text-align: right;\n",
       "    }\n",
       "</style>\n",
       "<table border=\"1\" class=\"dataframe\">\n",
       "  <thead>\n",
       "    <tr style=\"text-align: right;\">\n",
       "      <th></th>\n",
       "      <th>지점</th>\n",
       "      <th>평균기온(℃)</th>\n",
       "      <th>최저기온(℃)</th>\n",
       "      <th>최고기온(℃)</th>\n",
       "    </tr>\n",
       "    <tr>\n",
       "      <th>날짜</th>\n",
       "      <th></th>\n",
       "      <th></th>\n",
       "      <th></th>\n",
       "      <th></th>\n",
       "    </tr>\n",
       "  </thead>\n",
       "  <tbody>\n",
       "    <tr>\n",
       "      <td>1907-10-01</td>\n",
       "      <td>108</td>\n",
       "      <td>13.5</td>\n",
       "      <td>7.9</td>\n",
       "      <td>20.7</td>\n",
       "    </tr>\n",
       "    <tr>\n",
       "      <td>1907-10-02</td>\n",
       "      <td>108</td>\n",
       "      <td>16.2</td>\n",
       "      <td>7.9</td>\n",
       "      <td>22.0</td>\n",
       "    </tr>\n",
       "    <tr>\n",
       "      <td>1907-10-03</td>\n",
       "      <td>108</td>\n",
       "      <td>16.2</td>\n",
       "      <td>13.1</td>\n",
       "      <td>21.3</td>\n",
       "    </tr>\n",
       "    <tr>\n",
       "      <td>1907-10-04</td>\n",
       "      <td>108</td>\n",
       "      <td>16.5</td>\n",
       "      <td>11.2</td>\n",
       "      <td>22.0</td>\n",
       "    </tr>\n",
       "    <tr>\n",
       "      <td>1907-10-05</td>\n",
       "      <td>108</td>\n",
       "      <td>17.6</td>\n",
       "      <td>10.9</td>\n",
       "      <td>25.4</td>\n",
       "    </tr>\n",
       "    <tr>\n",
       "      <td>...</td>\n",
       "      <td>...</td>\n",
       "      <td>...</td>\n",
       "      <td>...</td>\n",
       "      <td>...</td>\n",
       "    </tr>\n",
       "    <tr>\n",
       "      <td>2018-03-24</td>\n",
       "      <td>108</td>\n",
       "      <td>7.6</td>\n",
       "      <td>4.0</td>\n",
       "      <td>13.1</td>\n",
       "    </tr>\n",
       "    <tr>\n",
       "      <td>2018-03-25</td>\n",
       "      <td>108</td>\n",
       "      <td>9.6</td>\n",
       "      <td>4.6</td>\n",
       "      <td>16.9</td>\n",
       "    </tr>\n",
       "    <tr>\n",
       "      <td>2018-03-26</td>\n",
       "      <td>108</td>\n",
       "      <td>11.0</td>\n",
       "      <td>5.3</td>\n",
       "      <td>18.1</td>\n",
       "    </tr>\n",
       "    <tr>\n",
       "      <td>2018-03-27</td>\n",
       "      <td>108</td>\n",
       "      <td>13.3</td>\n",
       "      <td>7.7</td>\n",
       "      <td>20.0</td>\n",
       "    </tr>\n",
       "    <tr>\n",
       "      <td>2018-03-28</td>\n",
       "      <td>108</td>\n",
       "      <td>14.0</td>\n",
       "      <td>9.4</td>\n",
       "      <td>19.0</td>\n",
       "    </tr>\n",
       "  </tbody>\n",
       "</table>\n",
       "<p>39926 rows × 4 columns</p>\n",
       "</div>"
      ],
      "text/plain": [
       "             지점  평균기온(℃)  최저기온(℃)  최고기온(℃)\n",
       "날짜                                        \n",
       "1907-10-01  108     13.5      7.9     20.7\n",
       "1907-10-02  108     16.2      7.9     22.0\n",
       "1907-10-03  108     16.2     13.1     21.3\n",
       "1907-10-04  108     16.5     11.2     22.0\n",
       "1907-10-05  108     17.6     10.9     25.4\n",
       "...         ...      ...      ...      ...\n",
       "2018-03-24  108      7.6      4.0     13.1\n",
       "2018-03-25  108      9.6      4.6     16.9\n",
       "2018-03-26  108     11.0      5.3     18.1\n",
       "2018-03-27  108     13.3      7.7     20.0\n",
       "2018-03-28  108     14.0      9.4     19.0\n",
       "\n",
       "[39926 rows x 4 columns]"
      ]
     },
     "execution_count": 27,
     "metadata": {},
     "output_type": "execute_result"
    }
   ],
   "source": [
    "df_new"
   ]
  },
  {
   "cell_type": "code",
   "execution_count": 30,
   "metadata": {},
   "outputs": [],
   "source": [
    "df_2 = df_new.loc['2017-08-01':'2017-08-15', ]"
   ]
  },
  {
   "cell_type": "code",
   "execution_count": 31,
   "metadata": {},
   "outputs": [
    {
     "data": {
      "text/html": [
       "<div>\n",
       "<style scoped>\n",
       "    .dataframe tbody tr th:only-of-type {\n",
       "        vertical-align: middle;\n",
       "    }\n",
       "\n",
       "    .dataframe tbody tr th {\n",
       "        vertical-align: top;\n",
       "    }\n",
       "\n",
       "    .dataframe thead th {\n",
       "        text-align: right;\n",
       "    }\n",
       "</style>\n",
       "<table border=\"1\" class=\"dataframe\">\n",
       "  <thead>\n",
       "    <tr style=\"text-align: right;\">\n",
       "      <th></th>\n",
       "      <th>지점</th>\n",
       "      <th>평균기온(℃)</th>\n",
       "      <th>최저기온(℃)</th>\n",
       "      <th>최고기온(℃)</th>\n",
       "    </tr>\n",
       "    <tr>\n",
       "      <th>날짜</th>\n",
       "      <th></th>\n",
       "      <th></th>\n",
       "      <th></th>\n",
       "      <th></th>\n",
       "    </tr>\n",
       "  </thead>\n",
       "  <tbody>\n",
       "    <tr>\n",
       "      <td>2017-08-01</td>\n",
       "      <td>108</td>\n",
       "      <td>28.6</td>\n",
       "      <td>24.1</td>\n",
       "      <td>33.0</td>\n",
       "    </tr>\n",
       "    <tr>\n",
       "      <td>2017-08-02</td>\n",
       "      <td>108</td>\n",
       "      <td>30.0</td>\n",
       "      <td>26.6</td>\n",
       "      <td>33.0</td>\n",
       "    </tr>\n",
       "    <tr>\n",
       "      <td>2017-08-03</td>\n",
       "      <td>108</td>\n",
       "      <td>30.2</td>\n",
       "      <td>27.2</td>\n",
       "      <td>33.9</td>\n",
       "    </tr>\n",
       "    <tr>\n",
       "      <td>2017-08-04</td>\n",
       "      <td>108</td>\n",
       "      <td>30.3</td>\n",
       "      <td>25.9</td>\n",
       "      <td>35.3</td>\n",
       "    </tr>\n",
       "    <tr>\n",
       "      <td>2017-08-05</td>\n",
       "      <td>108</td>\n",
       "      <td>31.4</td>\n",
       "      <td>27.6</td>\n",
       "      <td>34.8</td>\n",
       "    </tr>\n",
       "    <tr>\n",
       "      <td>2017-08-06</td>\n",
       "      <td>108</td>\n",
       "      <td>29.8</td>\n",
       "      <td>28.2</td>\n",
       "      <td>34.0</td>\n",
       "    </tr>\n",
       "    <tr>\n",
       "      <td>2017-08-07</td>\n",
       "      <td>108</td>\n",
       "      <td>29.2</td>\n",
       "      <td>26.4</td>\n",
       "      <td>34.4</td>\n",
       "    </tr>\n",
       "    <tr>\n",
       "      <td>2017-08-08</td>\n",
       "      <td>108</td>\n",
       "      <td>28.2</td>\n",
       "      <td>25.5</td>\n",
       "      <td>31.0</td>\n",
       "    </tr>\n",
       "    <tr>\n",
       "      <td>2017-08-09</td>\n",
       "      <td>108</td>\n",
       "      <td>27.6</td>\n",
       "      <td>24.6</td>\n",
       "      <td>32.0</td>\n",
       "    </tr>\n",
       "    <tr>\n",
       "      <td>2017-08-10</td>\n",
       "      <td>108</td>\n",
       "      <td>24.8</td>\n",
       "      <td>23.9</td>\n",
       "      <td>26.3</td>\n",
       "    </tr>\n",
       "    <tr>\n",
       "      <td>2017-08-11</td>\n",
       "      <td>108</td>\n",
       "      <td>27.0</td>\n",
       "      <td>23.9</td>\n",
       "      <td>32.4</td>\n",
       "    </tr>\n",
       "    <tr>\n",
       "      <td>2017-08-12</td>\n",
       "      <td>108</td>\n",
       "      <td>27.8</td>\n",
       "      <td>23.2</td>\n",
       "      <td>32.6</td>\n",
       "    </tr>\n",
       "    <tr>\n",
       "      <td>2017-08-13</td>\n",
       "      <td>108</td>\n",
       "      <td>26.3</td>\n",
       "      <td>24.2</td>\n",
       "      <td>28.4</td>\n",
       "    </tr>\n",
       "    <tr>\n",
       "      <td>2017-08-14</td>\n",
       "      <td>108</td>\n",
       "      <td>24.6</td>\n",
       "      <td>23.1</td>\n",
       "      <td>27.1</td>\n",
       "    </tr>\n",
       "    <tr>\n",
       "      <td>2017-08-15</td>\n",
       "      <td>108</td>\n",
       "      <td>21.9</td>\n",
       "      <td>20.8</td>\n",
       "      <td>24.0</td>\n",
       "    </tr>\n",
       "  </tbody>\n",
       "</table>\n",
       "</div>"
      ],
      "text/plain": [
       "             지점  평균기온(℃)  최저기온(℃)  최고기온(℃)\n",
       "날짜                                        \n",
       "2017-08-01  108     28.6     24.1     33.0\n",
       "2017-08-02  108     30.0     26.6     33.0\n",
       "2017-08-03  108     30.2     27.2     33.9\n",
       "2017-08-04  108     30.3     25.9     35.3\n",
       "2017-08-05  108     31.4     27.6     34.8\n",
       "2017-08-06  108     29.8     28.2     34.0\n",
       "2017-08-07  108     29.2     26.4     34.4\n",
       "2017-08-08  108     28.2     25.5     31.0\n",
       "2017-08-09  108     27.6     24.6     32.0\n",
       "2017-08-10  108     24.8     23.9     26.3\n",
       "2017-08-11  108     27.0     23.9     32.4\n",
       "2017-08-12  108     27.8     23.2     32.6\n",
       "2017-08-13  108     26.3     24.2     28.4\n",
       "2017-08-14  108     24.6     23.1     27.1\n",
       "2017-08-15  108     21.9     20.8     24.0"
      ]
     },
     "execution_count": 31,
     "metadata": {},
     "output_type": "execute_result"
    }
   ],
   "source": [
    "df_2"
   ]
  },
  {
   "cell_type": "code",
   "execution_count": 34,
   "metadata": {},
   "outputs": [],
   "source": [
    "df_2.reset_index(inplace=True)"
   ]
  },
  {
   "cell_type": "code",
   "execution_count": 35,
   "metadata": {},
   "outputs": [
    {
     "data": {
      "image/png": "[encoded data removed]",
      "text/plain": [
       "<Figure size 432x288 with 1 Axes>"
      ]
     },
     "metadata": {
      "needs_background": "light"
     },
     "output_type": "display_data"
    }
   ],
   "source": [
    "plt.scatter(data=df_2, x='날짜', y='최고기온(℃)')\n",
    "plt.xticks(rotation= 90)\n",
    "plt.show()"
   ]
  },
  {
   "cell_type": "code",
   "execution_count": null,
   "metadata": {},
   "outputs": [],
   "source": []
  }
 ],
 "metadata": {
  "kernelspec": {
   "display_name": "Python 3",
   "language": "python",
   "name": "python3"
  },
  "language_info": {
   "codemirror_mode": {
    "name": "ipython",
    "version": 3
   },
   "file_extension": ".py",
   "mimetype": "text/x-python",
   "name": "python",
   "nbconvert_exporter": "python",
   "pygments_lexer": "ipython3",
   "version": "3.7.4"
  }
 },
 "nbformat": 4,
 "nbformat_minor": 2
}
